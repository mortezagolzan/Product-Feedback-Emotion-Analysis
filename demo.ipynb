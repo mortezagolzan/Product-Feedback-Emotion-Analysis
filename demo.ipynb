{
 "cells": [
  {
   "cell_type": "markdown",
   "metadata": {},
   "source": [
    "# HuggingFace Model Inference Demo\n",
    "\n",
    "This notebook demonstrates how to make parallel requests to our containerized HuggingFace model inference API."
   ]
  },
  {
   "cell_type": "code",
   "execution_count": 38,
   "metadata": {},
   "outputs": [],
   "source": [
    "import requests\n",
    "import concurrent.futures\n",
    "import time\n",
    "import pandas as pd\n",
    "from typing import List, Dict\n",
    "import json"
   ]
  },
  {
   "cell_type": "markdown",
   "metadata": {},
   "source": [
    "## Configuration"
   ]
  },
  {
   "cell_type": "code",
   "execution_count": 47,
   "metadata": {},
   "outputs": [],
   "source": [
    "API_URL = \"http://localhost:8000/analyze\"\n",
    "NUM_REQUESTS = 10 \n",
    "\n",
    "sample_feedback = [\n",
    "    \"I'm really disappointed with this product. It's not what I expected and I feel let down by the quality.\",\n",
    "    \"I'm absolutely delighted with this purchase! It's exactly what I needed and works perfectly!\",\n",
    "    \"I absolutely adore this product! It's become an essential part of my daily routine and I can't imagine life without it.\",\n",
    "    \"I'm absolutely furious about this product! It's a complete scam and I want my money back immediately!\",\n",
    "    \"I'm really concerned about the safety of this product. The instructions are unclear and I'm worried it might be dangerous.\",\n",
    "    \"Wow! I'm amazed by how much better this product is than I expected. It's completely transformed my experience!\",\n",
    "    \"The product arrived on time and seems to work as described. It's okay for the price.\",\n",
    "    \"I’m in love with this camera’s vibrant photos!\",\n",
    "    \"I never expected this budget watch to be so durable!\",\n",
    "    \"This unstable tripod has me worried it’ll tip over!\"\n",
    "    ]"
   ]
  },
  {
   "cell_type": "markdown",
   "metadata": {},
   "source": [
    "## Function to make a single request"
   ]
  },
  {
   "cell_type": "code",
   "execution_count": 48,
   "metadata": {},
   "outputs": [],
   "source": [
    "def make_request(texts: List[str]) -> Dict:\n",
    "    \"\"\"Make a single request to the API.\"\"\"\n",
    "    try:\n",
    "        response = requests.post(\n",
    "            API_URL,\n",
    "            json={\"texts\": texts},\n",
    "            timeout=30\n",
    "        )\n",
    "        response.raise_for_status()\n",
    "        return response.json()\n",
    "    except Exception as e:\n",
    "        return {\"error\": str(e)}"
   ]
  },
  {
   "cell_type": "markdown",
   "metadata": {},
   "source": [
    "## Make parallel requests"
   ]
  },
  {
   "cell_type": "code",
   "execution_count": 49,
   "metadata": {},
   "outputs": [],
   "source": [
    "start_time = time.time()\n",
    "\n",
    "with concurrent.futures.ThreadPoolExecutor(max_workers=NUM_REQUESTS) as executor:\n",
    "    \n",
    "    future_to_request = {\n",
    "        executor.submit(make_request, [text]): text \n",
    "        for text in sample_feedback[:NUM_REQUESTS]\n",
    "    }\n",
    "    \n",
    "    results = []\n",
    "    for future in concurrent.futures.as_completed(future_to_request):\n",
    "        text = future_to_request[future]\n",
    "        try:\n",
    "            result = future.result()\n",
    "            prediction = result.get(\"predictions\", [{}])[0]\n",
    "            results.append({\n",
    "                \"text\": text,\n",
    "                \"dominant_emotion\": prediction.get(\"dominant_emotion\"),\n",
    "                \"emotions\": prediction.get(\"emotions\", {})\n",
    "            })\n",
    "        except Exception as e:\n",
    "            results.append({\n",
    "                \"text\": text,\n",
    "                \"error\": str(e)\n",
    "            })\n",
    "\n",
    "end_time = time.time()\n",
    "total_time = end_time - start_time"
   ]
  },
  {
   "cell_type": "markdown",
   "metadata": {},
   "source": [
    "## Display results"
   ]
  },
  {
   "cell_type": "code",
   "execution_count": 50,
   "metadata": {},
   "outputs": [
    {
     "name": "stdout",
     "output_type": "stream",
     "text": [
      "Total time for 10 parallel requests: 1.36 seconds\n",
      "Average time per request: 0.14 seconds\n",
      "\n",
      "Feedback Analysis Results:\n",
      "================================================================================\n",
      "\n",
      "Feedback: I'm absolutely delighted with this purchase! It's exactly what I needed and works perfectly!\n",
      "Dominant Emotion: joy\n",
      "Emotion Scores:\n",
      "  - sadness: 0.00\n",
      "  - joy: 1.00\n",
      "  - love: 0.00\n",
      "  - anger: 0.00\n",
      "  - fear: 0.00\n",
      "  - surprise: 0.00\n",
      "--------------------------------------------------------------------------------\n",
      "\n",
      "Feedback: I absolutely adore this product! It's become an essential part of my daily routine and I can't imagine life without it.\n",
      "Dominant Emotion: joy\n",
      "Emotion Scores:\n",
      "  - sadness: 0.00\n",
      "  - joy: 1.00\n",
      "  - love: 0.00\n",
      "  - anger: 0.00\n",
      "  - fear: 0.00\n",
      "  - surprise: 0.00\n",
      "--------------------------------------------------------------------------------\n",
      "\n",
      "Feedback: This unstable tripod has me worried it’ll tip over!\n",
      "Dominant Emotion: fear\n",
      "Emotion Scores:\n",
      "  - sadness: 0.03\n",
      "  - joy: 0.00\n",
      "  - love: 0.00\n",
      "  - anger: 0.03\n",
      "  - fear: 0.94\n",
      "  - surprise: 0.00\n",
      "--------------------------------------------------------------------------------\n",
      "\n",
      "Feedback: I'm really disappointed with this product. It's not what I expected and I feel let down by the quality.\n",
      "Dominant Emotion: sadness\n",
      "Emotion Scores:\n",
      "  - sadness: 1.00\n",
      "  - joy: 0.00\n",
      "  - love: 0.00\n",
      "  - anger: 0.00\n",
      "  - fear: 0.00\n",
      "  - surprise: 0.00\n",
      "--------------------------------------------------------------------------------\n",
      "\n",
      "Feedback: I'm really concerned about the safety of this product. The instructions are unclear and I'm worried it might be dangerous.\n",
      "Dominant Emotion: fear\n",
      "Emotion Scores:\n",
      "  - sadness: 0.00\n",
      "  - joy: 0.00\n",
      "  - love: 0.00\n",
      "  - anger: 0.31\n",
      "  - fear: 0.69\n",
      "  - surprise: 0.00\n",
      "--------------------------------------------------------------------------------\n",
      "\n",
      "Feedback: I’m in love with this camera’s vibrant photos!\n",
      "Dominant Emotion: joy\n",
      "Emotion Scores:\n",
      "  - sadness: 0.00\n",
      "  - joy: 1.00\n",
      "  - love: 0.00\n",
      "  - anger: 0.00\n",
      "  - fear: 0.00\n",
      "  - surprise: 0.00\n",
      "--------------------------------------------------------------------------------\n",
      "\n",
      "Feedback: The product arrived on time and seems to work as described. It's okay for the price.\n",
      "Dominant Emotion: joy\n",
      "Emotion Scores:\n",
      "  - sadness: 0.00\n",
      "  - joy: 1.00\n",
      "  - love: 0.00\n",
      "  - anger: 0.00\n",
      "  - fear: 0.00\n",
      "  - surprise: 0.00\n",
      "--------------------------------------------------------------------------------\n",
      "\n",
      "Feedback: I'm absolutely furious about this product! It's a complete scam and I want my money back immediately!\n",
      "Dominant Emotion: anger\n",
      "Emotion Scores:\n",
      "  - sadness: 0.00\n",
      "  - joy: 0.00\n",
      "  - love: 0.00\n",
      "  - anger: 1.00\n",
      "  - fear: 0.00\n",
      "  - surprise: 0.00\n",
      "--------------------------------------------------------------------------------\n",
      "\n",
      "Feedback: Wow! I'm amazed by how much better this product is than I expected. It's completely transformed my experience!\n",
      "Dominant Emotion: surprise\n",
      "Emotion Scores:\n",
      "  - sadness: 0.00\n",
      "  - joy: 0.00\n",
      "  - love: 0.00\n",
      "  - anger: 0.00\n",
      "  - fear: 0.00\n",
      "  - surprise: 0.99\n",
      "--------------------------------------------------------------------------------\n",
      "\n",
      "Feedback: I never expected this budget watch to be so durable!\n",
      "Dominant Emotion: joy\n",
      "Emotion Scores:\n",
      "  - sadness: 0.00\n",
      "  - joy: 1.00\n",
      "  - love: 0.00\n",
      "  - anger: 0.00\n",
      "  - fear: 0.00\n",
      "  - surprise: 0.00\n",
      "--------------------------------------------------------------------------------\n"
     ]
    }
   ],
   "source": [
    "print(f\"Total time for {NUM_REQUESTS} parallel requests: {total_time:.2f} seconds\")\n",
    "print(f\"Average time per request: {total_time/NUM_REQUESTS:.2f} seconds\")\n",
    "\n",
    "df = pd.DataFrame(results)\n",
    "\n",
    "print(\"\\nFeedback Analysis Results:\")\n",
    "print(\"=\" * 80)\n",
    "for _, row in df.iterrows():\n",
    "    print(f\"\\nFeedback: {row['text']}\")\n",
    "    print(f\"Dominant Emotion: {row['dominant_emotion']}\")\n",
    "    print(\"Emotion Scores:\")\n",
    "    for emotion, score in row['emotions'].items():\n",
    "        print(f\"  - {emotion}: {score:.2f}\")\n",
    "    print(\"-\" * 80) "
   ]
  },
  {
   "cell_type": "code",
   "execution_count": null,
   "metadata": {},
   "outputs": [],
   "source": []
  }
 ],
 "metadata": {
  "kernelspec": {
   "display_name": "Python 3",
   "language": "python",
   "name": "python3"
  },
  "language_info": {
   "codemirror_mode": {
    "name": "ipython",
    "version": 3
   },
   "file_extension": ".py",
   "mimetype": "text/x-python",
   "name": "python",
   "nbconvert_exporter": "python",
   "pygments_lexer": "ipython3",
   "version": "3.11.0"
  }
 },
 "nbformat": 4,
 "nbformat_minor": 2
}
